{
 "cells": [
  {
   "cell_type": "code",
   "execution_count": 39,
   "id": "d49e1869",
   "metadata": {},
   "outputs": [],
   "source": [
    "from IPython.core.interactiveshell import InteractiveShell\n",
    "InteractiveShell.ast_node_interactivity = \"all\""
   ]
  },
  {
   "cell_type": "code",
   "execution_count": 40,
   "id": "f28c2eaa",
   "metadata": {},
   "outputs": [],
   "source": [
    "import glob\n",
    "import re\n",
    "import pandas as pd\n",
    "import os\n",
    "import time"
   ]
  },
  {
   "cell_type": "code",
   "execution_count": 41,
   "id": "dfe8f441",
   "metadata": {},
   "outputs": [],
   "source": [
    "def extract_basic_info(string):\n",
    "    if \"timestamp\" not in string:\n",
    "        return \"TIMESTAMP_MISSING\"\n",
    "    if \"tagged_device_id\" not in string:\n",
    "        return \"TAGGED_DEVICE_ID_MISSING\"\n",
    "    if string.count(\"device_id\") != 2:\n",
    "        return \"DEVICE_ID_MISSING\"\n",
    "    \n",
    "    values = re.findall(r\"\\((.*?)\\)\", string)\n",
    "    return values\n",
    "\n",
    "def extract_spo2_data(string):\n",
    "    if \"SampleCounter\" in string:\n",
    "        return None\n",
    "    if \"Footer\" in string:\n",
    "        return None\n",
    "    raw_data = string.split(\", \")[0].split(\": \")[1]\n",
    "    values = re.findall(r\"\\((.*?)\\)\", string.split(\", \")[1])\n",
    "    signalStrength = int(values[0])\n",
    "    probe = int(values[1])\n",
    "    finger = int(values[2])\n",
    "    spo2 = int(values[3])\n",
    "    pulse = int(values[4])\n",
    "    return raw_data, signalStrength, probe, finger, spo2, pulse"
   ]
  },
  {
   "cell_type": "code",
   "execution_count": 42,
   "id": "31a44e69",
   "metadata": {},
   "outputs": [],
   "source": [
    "spo2_data_folder = \"ppg/\"\n",
    "output_folder = \"ppg_tables/\"\n",
    "\n",
    "if not os.path.exists(output_folder):\n",
    "    os.mkdir(output_folder)"
   ]
  },
  {
   "cell_type": "code",
   "execution_count": 43,
   "id": "738f1eeb",
   "metadata": {},
   "outputs": [
    {
     "name": "stdout",
     "output_type": "stream",
     "text": [
      "Files found\n",
      "ppg/f69b61e2-8663-42a1-8b61-3cc99a30accf_00956.doz\n",
      "ppg/f69b61e2-8663-42a1-8b61-3cc99a30accf_00955.doz\n"
     ]
    }
   ],
   "source": [
    "files = glob.glob(spo2_data_folder + \"*\")\n",
    "print(\"Files found\", *files, sep='\\n')"
   ]
  },
  {
   "cell_type": "code",
   "execution_count": 50,
   "id": "c139a7a8",
   "metadata": {},
   "outputs": [
    {
     "name": "stdout",
     "output_type": "stream",
     "text": [
      "Total files : 2\n"
     ]
    },
    {
     "ename": "KeyboardInterrupt",
     "evalue": "",
     "output_type": "error",
     "traceback": [
      "\u001b[0;31m---------------------------------------------------------------------------\u001b[0m",
      "\u001b[0;31mKeyboardInterrupt\u001b[0m                         Traceback (most recent call last)",
      "\u001b[0;32m/tmp/ipykernel_1384415/691785610.py\u001b[0m in \u001b[0;36m<module>\u001b[0;34m\u001b[0m\n\u001b[1;32m     15\u001b[0m         \u001b[0mline\u001b[0m \u001b[0;34m=\u001b[0m \u001b[0;34mb''\u001b[0m\u001b[0;34m\u001b[0m\u001b[0;34m\u001b[0m\u001b[0m\n\u001b[1;32m     16\u001b[0m         \u001b[0;32mwhile\u001b[0m \u001b[0;32mTrue\u001b[0m\u001b[0;34m:\u001b[0m\u001b[0;34m\u001b[0m\u001b[0;34m\u001b[0m\u001b[0m\n\u001b[0;32m---> 17\u001b[0;31m             \u001b[0mnext_char\u001b[0m \u001b[0;34m=\u001b[0m \u001b[0mfp\u001b[0m\u001b[0;34m.\u001b[0m\u001b[0mread\u001b[0m\u001b[0;34m(\u001b[0m\u001b[0;36m1\u001b[0m\u001b[0;34m)\u001b[0m\u001b[0;34m\u001b[0m\u001b[0;34m\u001b[0m\u001b[0m\n\u001b[0m\u001b[1;32m     18\u001b[0m             \u001b[0mline\u001b[0m \u001b[0;34m+=\u001b[0m \u001b[0mnext_char\u001b[0m\u001b[0;34m\u001b[0m\u001b[0;34m\u001b[0m\u001b[0m\n\u001b[1;32m     19\u001b[0m             \u001b[0;32mif\u001b[0m \u001b[0mnext_char\u001b[0m \u001b[0;34m==\u001b[0m \u001b[0;34mb'\\n'\u001b[0m\u001b[0;34m:\u001b[0m\u001b[0;34m\u001b[0m\u001b[0;34m\u001b[0m\u001b[0m\n",
      "\u001b[0;31mKeyboardInterrupt\u001b[0m: "
     ]
    }
   ],
   "source": [
    "start_total = time.time()\n",
    "print(f\"Total files : {len(files)}\")\n",
    "file_num = 0\n",
    "for file in files:\n",
    "    start_file = time.time()\n",
    "#     df = pd.DataFrame()\n",
    "    data_dict = {\"RAW\" : [],\n",
    "                \"Signal\" : [],\n",
    "                \"Probe\" : [],\n",
    "                \"Finger\" : [],\n",
    "                \"SPO2\" : [],\n",
    "                \"Pulse\" : []}\n",
    "    file_num += 1\n",
    "    with open(file, \"rb\") as fp:\n",
    "        line = b''\n",
    "        while True:\n",
    "            next_char = fp.read(1)\n",
    "            line += next_char\n",
    "            if next_char == b'\\n':\n",
    "                print(\"Read a line\")\n",
    "                break\n",
    "        cnt = 1\n",
    "        while line:\n",
    "#             print(\"Line {}: {}\".format(cnt, line.strip()))\n",
    "            if cnt == 1:\n",
    "                start = time.time()\n",
    "                basic_info = extract_basic_info(line.strip())\n",
    "                end = time.time()\n",
    "#                 print(\"Time taken to extract basic info =\", end - start)\n",
    "            else:\n",
    "                start = time.time()\n",
    "                spo2_data = extract_spo2_data(line.strip())\n",
    "                end = time.time()\n",
    "#                 print(\"Time taken to extract basic data =\", end - start)\n",
    "                if spo2_data is not None:\n",
    "                    start = time.time()\n",
    "                    data_dict[\"RAW\"].append(spo2_data[0])\n",
    "                    data_dict[\"Signal\"].append(spo2_data[1])\n",
    "                    data_dict[\"Probe\"].append(spo2_data[2])\n",
    "                    data_dict[\"Finger\"].append(spo2_data[3])\n",
    "                    data_dict[\"SPO2\"].append(spo2_data[4])\n",
    "                    data_dict[\"Pulse\"].append(spo2_data[5])\n",
    "                    end = time.time()\n",
    "#                     print(\"Time taken to append data =\", end - start)\n",
    "            cnt += 1\n",
    "            line = b''\n",
    "            while True:\n",
    "                next_char = fp.read(1)\n",
    "                line += next_char\n",
    "                if next_char == 10:\n",
    "                    print(\"Read a line\")\n",
    "                    break\n",
    "            break\n",
    "    start = time.time()\n",
    "    df = pd.DataFrame(data_dict)\n",
    "    df.to_csv(output_folder + file.replace(\"ppg/\", \"\"))\n",
    "    end = time.time()\n",
    "#     print(\"Time taken to prepare DataFrame and export csv =\", end - start)\n",
    "    print(f\"Exported File number {file_num}, Filename {file}\")\n",
    "    end = time.time()\n",
    "    print(f\"Total time taken for file = {int((end - start) * 1000)} ms\")\n",
    "    \n",
    "end_total = time.time()\n",
    "print(f\"Total time taken for all files = {int((end_total - start_total))} s\")"
   ]
  },
  {
   "cell_type": "code",
   "execution_count": null,
   "id": "bee27691",
   "metadata": {},
   "outputs": [],
   "source": []
  }
 ],
 "metadata": {
  "kernelspec": {
   "display_name": "Python 3 (ipykernel)",
   "language": "python",
   "name": "python3"
  },
  "language_info": {
   "codemirror_mode": {
    "name": "ipython",
    "version": 3
   },
   "file_extension": ".py",
   "mimetype": "text/x-python",
   "name": "python",
   "nbconvert_exporter": "python",
   "pygments_lexer": "ipython3",
   "version": "3.10.12"
  }
 },
 "nbformat": 4,
 "nbformat_minor": 5
}
