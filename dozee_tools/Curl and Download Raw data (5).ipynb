{
 "cells": [
  {
   "cell_type": "code",
   "execution_count": 1,
   "id": "c51123d4",
   "metadata": {
    "slideshow": {
     "slide_type": ""
    },
    "tags": []
   },
   "outputs": [],
   "source": [
    "import glob\n",
    "import codecs\n",
    "import requests\n",
    "import os\n",
    "import requests\n",
    "import datetime as dt\n",
    "import json\n",
    "import re\n",
    "import time\n",
    "import pandas as pd"
   ]
  },
  {
   "cell_type": "code",
   "execution_count": null,
   "id": "9fe9dccb",
   "metadata": {},
   "outputs": [],
   "source": []
  },
  {
   "cell_type": "code",
   "execution_count": 2,
   "id": "00fbc7ca",
   "metadata": {},
   "outputs": [],
   "source": [
    "def get_device_ID(prefix, sequence):\n",
    "    url = f\"https://devices.senslabs.io/api/recorders/get?sequence={sequence}&prefix={prefix}\"\n",
    "\n",
    "    payload={}\n",
    "    headers = {\n",
    "      'x-api-key': 'R4SFERU4m06IJc3jwfAHP228aMkcLeFBapNxyQRT'\n",
    "    }\n",
    "\n",
    "    response = requests.request(\"GET\", url, headers=headers, data=payload)\n",
    "    response = response.json()\n",
    "    response = pd.DataFrame(response)\n",
    "    return response.RecorderId[0]\n",
    "def get_raw_files(DeviceId, Emails, From, To):\n",
    "    url = \"https://console.senslabs.io/api/rawfiles/request\"\n",
    "    payload = json.dumps({\n",
    "        \"DeviceId\": DeviceId ,\n",
    "        \"From\": From ,\n",
    "        \"To\": To ,\n",
    "        \"Emails\": Emails\n",
    "        })\n",
    "    headers = {\n",
    "        'x-api-key': 'TnxV3x7XOku8T1y4Zqvb',\n",
    "        'Content-Type': 'application/json'\n",
    "        }\n",
    "    response = requests.request(\"POST\", url, headers=headers, data=payload, timeout=5)\n",
    "    return response\n"
   ]
  },
  {
   "cell_type": "code",
   "execution_count": null,
   "id": "a7a1d86e",
   "metadata": {},
   "outputs": [],
   "source": []
  },
  {
   "cell_type": "code",
   "execution_count": 3,
   "id": "45e640d9",
   "metadata": {},
   "outputs": [],
   "source": [
    "def read_data(file_name):\n",
    "    asciiFile = codecs.open(file_name, \"rb\")\n",
    "    data = asciiFile.read()\n",
    "    raw_data = []\n",
    "    for value in data:\n",
    "        raw_data.append(value)\n",
    "\n",
    "    asciiFile.close()\n",
    "    header_position = [i for i, ltr in enumerate(raw_data) if ltr == 252 or ltr == 253]\n",
    "    header = raw_data[header_position[0]:header_position[1] + 1]\n",
    "    header = header[1:-1]\n",
    "    header_str = \"\".join(chr(x) for x in header)\n",
    "    header_tstamp = int(header_str[:10])\n",
    "    return raw_data, header_position, header_tstamp\n",
    "\n",
    "def update_device_id_htime(raw_data, header_position, device_id, file_name, header_tstamp):\n",
    "    new_device = [ord(x) for x in str(device_id)]\n",
    "    new_header = [ord(x) for x in str(header_tstamp)]\n",
    "    for i in range(len(new_device)):\n",
    "        raw_data[header_position[0] + 11 + i] = new_device[i]\n",
    "    for i in range(len(new_header)):\n",
    "        raw_data[header_position[0] + 1 + i] = new_header[i]\n",
    "\n",
    "    with open(file_name, \"wb\") as f:\n",
    "        data = f.write(bytearray(raw_data))\n",
    "    f.close()\n",
    "\n",
    "def upload_file(device_id, recording_id, filename):\n",
    "    headers = {'Content-Type': 'application/octet-stream',\n",
    "               'x-api-key': 'daq0:Q0bGUVEoCrUFbuCXcM6c'\n",
    "               }\n",
    "    \n",
    "    # master = \"https://fwrest.senslabs.io/api/uploads/0-0\"\n",
    "    # beta_4 = \"https://fwrest.senslabs.io/api/uploads/98-4\"\n",
    "    # delta = \"https://fwrest.senslabs.io/api/uploads/98-5\"\n",
    "#     gamma = \"https://fwrest.senslabs.io/api/uploads/98-6\"\n",
    "    # beta= \"https://fwrest.senslabs.io/api/uploads/98-3\"\n",
    "#     production = \"https://fwrest.senslabs.io/api/uploads/98-4\"\n",
    "\n",
    "    #################################!!!!!!!!!!!!CAREFUL!!!!!!!!!!!!!!##############################################\n",
    "    beta_new = \"https://daq-sit.dozee.cloud/api/uploads/0\"\n",
    "    new_production = \"https://daq.dozee.cloud/api/uploads/0\"\n",
    "     \n",
    "    \n",
    "    basename =  os.path.basename(filename)\n",
    "    # endpoint = f'{beta}/{device_id}/pzo/fsr/{basename}?force=true'\n",
    "    \n",
    "    endpoint = f'{beta_new}/{device_id}/pzo/{basename}'\n",
    "    print(endpoint)\n",
    "    ####################################!!!!!!!!!!!!!!!!!!CAREFUL!!!!!!!!##########################################\n",
    "    # print(basename)\n",
    "    with open(filename, 'rb') as f:\n",
    "        data = f.read()\n",
    "        r = requests.post(endpoint, headers=headers, data=data)\n",
    "        print(r.text, r.status_code)\n",
    "\n",
    "def start_reading(file_names, device_id, header_time_delta = 0):\n",
    "    print(\"Total files =\", len(file_names))\n",
    "    print(f\"Changing header time by {header_time_delta/60} mins Or {header_time_delta/3600} hrs\")\n",
    "    file_number = 0\n",
    "    for file_name in file_names:\n",
    "        try:\n",
    "            raw_data, header_position, header_tstamp = read_data(file_name)\n",
    "            print(file_name)\n",
    "            print('Old Header Timestamp: {}'.format(header_tstamp))\n",
    "            header_tstamp = header_tstamp +header_time_delta # + 10*60*60  # make change to the header time\n",
    "            print('New Header Timestamp: {}'.format(header_tstamp))\n",
    "            update_device_id_htime(raw_data, header_position, device_id, file_name, header_tstamp)\n",
    "            file_number = file_number +1\n",
    "              \n",
    "            print(file_number)\n",
    "        except Exception as e:\n",
    "            print(file_name,\"Exception\",e)\n",
    "            "
   ]
  },
  {
   "cell_type": "code",
   "execution_count": null,
   "id": "4d7640b6",
   "metadata": {},
   "outputs": [],
   "source": []
  },
  {
   "cell_type": "code",
   "execution_count": 4,
   "id": "e80b4ee8",
   "metadata": {},
   "outputs": [
    {
     "data": {
      "text/plain": [
       "1723812761"
      ]
     },
     "execution_count": 4,
     "metadata": {},
     "output_type": "execute_result"
    }
   ],
   "source": [
    "int(time.time())"
   ]
  },
  {
   "cell_type": "code",
   "execution_count": null,
   "id": "427235ee",
   "metadata": {},
   "outputs": [],
   "source": []
  },
  {
   "cell_type": "code",
   "execution_count": 5,
   "id": "b9e6552b",
   "metadata": {},
   "outputs": [
    {
     "ename": "SyntaxError",
     "evalue": "invalid syntax (2751526389.py, line 1)",
     "output_type": "error",
     "traceback": [
      "\u001b[0;36m  File \u001b[0;32m\"/tmp/ipykernel_165597/2751526389.py\"\u001b[0;36m, line \u001b[0;32m1\u001b[0m\n\u001b[0;31m    ----------------------------------------------CAREFUL AFTER THIS-----------------------------------------------------------------\u001b[0m\n\u001b[0m                                                          ^\u001b[0m\n\u001b[0;31mSyntaxError\u001b[0m\u001b[0;31m:\u001b[0m invalid syntax\n"
     ]
    }
   ],
   "source": [
    "----------------------------------------------CAREFUL AFTER THIS-----------------------------------------------------------------"
   ]
  },
  {
   "cell_type": "markdown",
   "id": "0e17ea1e",
   "metadata": {},
   "source": [
    "Download raw files"
   ]
  },
  {
   "cell_type": "code",
   "execution_count": 5,
   "id": "2831fe90",
   "metadata": {},
   "outputs": [
    {
     "name": "stdout",
     "output_type": "stream",
     "text": [
      "33056008-da61-451d-bec5-30983c055f94\n"
     ]
    },
    {
     "data": {
      "text/plain": [
       "<Response [200]>"
      ]
     },
     "execution_count": 5,
     "metadata": {},
     "output_type": "execute_result"
    }
   ],
   "source": [
    "# Device details\n",
    "prefix = 'DP' \n",
    "sequence = 15790\n",
    "\n",
    "#Indian standard time\n",
    "From = \"2024-08-06T10:30:00\"    ##IST\n",
    "To =   \"2024-08-06T10:40:00\"    ##IST\n",
    "\n",
    "\n",
    "DeviceId = \"33056008-da61-451d-bec5-30983c055f94\"\n",
    "print(DeviceId)\n",
    "From =(dt.datetime.fromisoformat(From)-dt.timedelta(hours=5.5)).isoformat()\n",
    "To =(dt.datetime.fromisoformat(To)-dt.timedelta(hours=5.5)).isoformat()\n",
    "Emails = \"deepsett@dozee.io\"\n",
    "get_raw_files(DeviceId, Emails, From , To)"
   ]
  },
  {
   "cell_type": "code",
   "execution_count": null,
   "id": "9206b1ac",
   "metadata": {
    "scrolled": true
   },
   "outputs": [],
   "source": []
  },
  {
   "cell_type": "code",
   "execution_count": null,
   "id": "f9979a08",
   "metadata": {},
   "outputs": [],
   "source": []
  },
  {
   "cell_type": "code",
   "execution_count": null,
   "id": "199be1bc",
   "metadata": {},
   "outputs": [],
   "source": [
    "TST-3399 - Prod\n",
    "TST-3388 - SIT\n",
    "\n",
    "#Apr 04\n",
    "DOZ-8235 - Prod\n",
    "DOZ-6765 - SIT\n",
    "\n",
    "\n",
    "\n",
    "#Aug 05,2024\n",
    "1. DP-9669 - C:\\Users\\vaishalib\\Documents\\SIT HR algo test\\QA_Benchmarking_HR\\QA_Benchmarking_HR\\DZ_OSA_013\\RF : 1722272839 to 1722301797\n",
    "DP-9125: C:\\Users\\vaishalib\\Documents\\SIT HR algo test\\QA_Benchmarking_HR\\QA_Benchmarking_HR\\DZ_BGS_IBP_149\\7\\pzo : 1721606503 to 1721692721\n",
    "          C:\\Users\\vaishalib\\Documents\\SIT HR algo test\\QA_Benchmarking_HR\\QA_Benchmarking_HR\\DZ_BGS_IBP_149\\8\\pzo :  1722038441 to 1722124700\n",
    "         C:/Users/vaishalib/Documents/SIT HR algo test/QA_Benchmarking_HR/QA_Benchmarking_HR/DZ_BGS_IBP_149/9/pzo : 1722729620 to 1722815996\n",
    "DP-9122 : DZ_OSA_013\\RF: 1722366578,1. 1722704839 to 1722733797 2. 1721543485 to 1721606383\n",
    "DP-7942 :C:\\Users\\vaishalib\\Documents\\SIT HR algo test\\QA_Benchmarking_HR\\QA_Benchmarking_HR\\DZ_OSA_013\\RF :1722704839 "
   ]
  },
  {
   "cell_type": "markdown",
   "id": "7a531848",
   "metadata": {},
   "source": [
    "Curl Files "
   ]
  },
  {
   "cell_type": "code",
   "execution_count": 10,
   "id": "c5343a91",
   "metadata": {
    "scrolled": false
   },
   "outputs": [
    {
     "name": "stdout",
     "output_type": "stream",
     "text": [
      "DeviceId: 814bc00b-696b-4204-bf62-5e8512917b5a\n",
      "86400\n",
      "https://daq-sit.dozee.cloud/api/uploads/0/814bc00b-696b-4204-bf62-5e8512917b5a/pzo/09121423\n",
      "\"OK\"\n",
      " 200\n",
      "https://daq-sit.dozee.cloud/api/uploads/0/814bc00b-696b-4204-bf62-5e8512917b5a/pzo/09121623\n",
      "\"OK\"\n",
      " 200\n",
      "https://daq-sit.dozee.cloud/api/uploads/0/814bc00b-696b-4204-bf62-5e8512917b5a/pzo/09121823\n",
      "\"OK\"\n",
      " 200\n",
      "https://daq-sit.dozee.cloud/api/uploads/0/814bc00b-696b-4204-bf62-5e8512917b5a/pzo/09122023\n",
      "\"OK\"\n",
      " 200\n",
      "https://daq-sit.dozee.cloud/api/uploads/0/814bc00b-696b-4204-bf62-5e8512917b5a/pzo/09122223\n",
      "\"OK\"\n",
      " 200\n",
      "https://daq-sit.dozee.cloud/api/uploads/0/814bc00b-696b-4204-bf62-5e8512917b5a/pzo/09122423\n",
      "\"OK\"\n",
      " 200\n"
     ]
    }
   ],
   "source": [
    "\n",
    "upload = True\n",
    "\n",
    "prefix = 'DP' \n",
    "sequence = 9125\n",
    "device_id = get_device_ID(prefix,sequence)\n",
    "print('DeviceId:', device_id)\n",
    "\n",
    "header_time_delta = int(3600*(24)*1) ## In seconds\n",
    "print(header_time_delta)\n",
    "\n",
    "\n",
    "if __name__ == '__main__':\n",
    "  \n",
    "    # file_names = sorted(glob.glob(\"/Users/mohit/Desktop/HDCS SIT/RAW_Files/*/*\"))\n",
    "    # file_names = sorted(glob.glob(\"/home/john/VScode/amit_reports/24hrs_data/12060000-14060000/*\"))\n",
    "    #filename = \"C:/Users/vaishalib/Documents/SIT HR algo test/QA_Benchmarking_HR/QA_Benchmarking_HR/DZ_OSA_013/RF/*\"\n",
    "#     filename = \"C:/Users/vaishalib/Documents/SIT HR algo test/QA_Benchmarking_HR/QA_Benchmarking_HR/DZ_BGS_IBP_149/6/pzo/*\"\n",
    "# filename = \"C:/Users/vaishalib/Documents/SIT HR algo test/QA_Benchmarking_HR/QA_Benchmarking_HR/DZ_BGS_IBP_149/7/pzo/*\"\n",
    "#   filename = \"C:/Users/vaishalib/Documents/SIT HR algo test/QA_Benchmarking_HR/QA_Benchmarking_HR/DZ_BGS_IBP_149/8/pzo/*\"\n",
    "    \n",
    "    # IMPORTANT! Mention file path here....\n",
    "    filename = \"C:/Users/vaishalib/Documents/SIT HR algo test/QA_Benchmarking_HR/QA_Benchmarking_HR/DZ_BGS_IBP_149/9/pzo/*\"\n",
    "#     filename = filename.replace(\"\\\\\",\"/\") + \"/*\"\n",
    "#     print(filename)                            \n",
    "    file_names = sorted(glob.glob(filename))\n",
    "    \n",
    "    # file_names= file_names[0:1]\n",
    "\n",
    "    device_id =  device_id\n",
    "    header_time_delta = int(header_time_delta)\n",
    "    \n",
    "    #This is to update time\n",
    "    if not upload:\n",
    "        start_reading(file_names, device_id, header_time_delta) \n",
    "    \n",
    "    ####################################################################\n",
    "    \n",
    "    \n",
    "\n",
    "    if upload:\n",
    "        for f in file_names:\n",
    "            #Make sure the devices are not used for past 1-2 days. Patient should be paired to device before 3 days\n",
    "            upload_file(get_device_ID('DP', 9125), '', f)\n",
    "            # upload_file(get_device_ID('DOZ', 6765), '', f)\n",
    "            # upload_file(get_device_ID('DP', 6081), '', f)\n",
    "\n",
    "            # upload_file(get_device_ID('DOZ', 7986), '', f)\n",
    "            # upload_file(get_device_ID('DOZ', 8129), '', f)\n",
    "\n",
    "            # upload_file(get_device_ID('DOZ', 2678), '', f)\n",
    "            # time.sleep(1) \n",
    "            pass"
   ]
  },
  {
   "cell_type": "code",
   "execution_count": null,
   "id": "e41b73e6",
   "metadata": {},
   "outputs": [],
   "source": []
  },
  {
   "cell_type": "code",
   "execution_count": null,
   "id": "aa0eaaf1",
   "metadata": {},
   "outputs": [],
   "source": []
  },
  {
   "cell_type": "code",
   "execution_count": null,
   "id": "48297684",
   "metadata": {},
   "outputs": [],
   "source": []
  },
  {
   "cell_type": "code",
   "execution_count": null,
   "id": "358f1414",
   "metadata": {},
   "outputs": [],
   "source": [
    "False"
   ]
  },
  {
   "cell_type": "code",
   "execution_count": null,
   "id": "6ece1c90",
   "metadata": {},
   "outputs": [],
   "source": []
  },
  {
   "cell_type": "code",
   "execution_count": null,
   "id": "2a5ead24",
   "metadata": {},
   "outputs": [],
   "source": []
  },
  {
   "cell_type": "markdown",
   "id": "b056a808",
   "metadata": {},
   "source": [
    "## Get Vitals"
   ]
  },
  {
   "cell_type": "code",
   "execution_count": null,
   "id": "3452e42f",
   "metadata": {},
   "outputs": [],
   "source": [
    "headers = {\n",
    "    # \"Authorization\": \"Bearer xyz\",\n",
    "    \"Content-Type\": \"application/json\",\n",
    "    \"x-api-key\": \"4taVi1w0mS2rAG6UX4xJn8rwinotrGAz8wXzOiWj\"\n",
    "             }    \n",
    "\n",
    "def get_vitals_values():\n",
    "\n",
    "        url: str = \"https://xrecords.gateway.senslabs.io/api/records/get\"\n",
    "            \n",
    "        # Step 1: Enter UserId.\n",
    "        user_id: str = \"97ade1dd-a71b-41e3-8d1b-c8b3821e04c3\"\n",
    "            \n",
    "        #Step 2: Change timestamp (format UTC)\n",
    "        utc_from: str = \"2024-04-15T02:00:00Z\"\n",
    "        utc_to: str = \"2024-04-15T03:00:00Z\"\n",
    "            \n",
    "            \n",
    "        hr_conf: str = \"HeartRateConfidence\"\n",
    "        br_conf: str = \"BreathRateConfidence\"\n",
    "        hr: str = \"HeartRate\"\n",
    "        br: str = \"BreathRate\"\n",
    "        bps: str = \"BpSys\"\n",
    "        bpd: str = \"BpDia\"\n",
    "            \n",
    "        #Step 4(If necessary): Change source\n",
    "        source: str = \"350\"\n",
    "        # utc_from = self.ist_time_string_to_utc(ist_time= str(from_ist_time))\n",
    "        # utc_to = self.ist_time_string_to_utc(ist_time= str(to_ist_time))\n",
    "\n",
    "        #userID, utc_from, utc_to\n",
    "        response = requests.request(method='GET', \n",
    "                                    url=f\"{url}?userId={user_id}&from={utc_from}&to={utc_to}&key={hr_conf}&key={br_conf}&key={hr}&key={br}&key={bps}&key={bpd}&Source={source}\",\n",
    "                                    headers= headers,\n",
    "                                    timeout= 1\n",
    "                                    )\n",
    "        print(\"status:\", response.status_code)\n",
    "        print(\"Values:\", response.json())\n",
    "        \n",
    "        #Step 5: Select location to save data.\n",
    "        with open('C:/Users/vaishalib/Documents/SIT HR algo test/sanity_result_Prod1.json', 'w+', encoding='utf-8') as f:\n",
    "            json.dump(response.json(), f, ensure_ascii=False, indent=4)\n",
    "\n",
    "#         return response.json()\n",
    "get_vitals_values()"
   ]
  },
  {
   "cell_type": "code",
   "execution_count": null,
   "id": "fadae6a8",
   "metadata": {},
   "outputs": [],
   "source": []
  },
  {
   "cell_type": "code",
   "execution_count": null,
   "id": "24f301e6",
   "metadata": {},
   "outputs": [],
   "source": []
  },
  {
   "cell_type": "code",
   "execution_count": null,
   "id": "58fe6012",
   "metadata": {},
   "outputs": [],
   "source": []
  },
  {
   "cell_type": "code",
   "execution_count": null,
   "id": "b660559d",
   "metadata": {},
   "outputs": [],
   "source": []
  },
  {
   "cell_type": "code",
   "execution_count": null,
   "id": "cf21efdb",
   "metadata": {},
   "outputs": [],
   "source": []
  },
  {
   "cell_type": "code",
   "execution_count": null,
   "id": "e5a4eda9",
   "metadata": {},
   "outputs": [],
   "source": []
  }
 ],
 "metadata": {
  "kernelspec": {
   "display_name": "Python 3 (ipykernel)",
   "language": "python",
   "name": "python3"
  },
  "language_info": {
   "codemirror_mode": {
    "name": "ipython",
    "version": 3
   },
   "file_extension": ".py",
   "mimetype": "text/x-python",
   "name": "python",
   "nbconvert_exporter": "python",
   "pygments_lexer": "ipython3",
   "version": "3.10.12"
  }
 },
 "nbformat": 4,
 "nbformat_minor": 5
}
